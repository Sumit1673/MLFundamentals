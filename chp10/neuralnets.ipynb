{
 "metadata": {
  "language_info": {
   "codemirror_mode": {
    "name": "ipython",
    "version": 3
   },
   "file_extension": ".py",
   "mimetype": "text/x-python",
   "name": "python",
   "nbconvert_exporter": "python",
   "pygments_lexer": "ipython3",
   "version": "3.8.5-final"
  },
  "orig_nbformat": 2,
  "kernelspec": {
   "name": "python3",
   "display_name": "Python 3",
   "language": "python"
  }
 },
 "nbformat": 4,
 "nbformat_minor": 2,
 "cells": [
  {
   "source": [
    "Perceptron (Single layer Fully connected NN): Simplest ANN based on Threshold Logic Unit. All the inputs are weighted. The Perceptron computes the weighted sum of all the inputs and pass the output to a step function to make decision. \n",
    "\n",
    "**Simpleste Step Function is: Heaviside Step Function**\n",
    "\n",
    "Look the below figure for the context. The below figure produces a logical ouptut between 1 or 0.\n",
    "\n",
    "<img src='ann.png'>\n",
    "\n",
    "<img src='heaviside.png'>\n",
    "\n",
    "<img src=\"gd_percp.png\">\n",
    "\n",
    "The decision boundary of each output neuron is linear, so Perceptrons are incapable\n",
    "of learning complex patterns (just like Logistic Regression classifiers).\n"
   ],
   "cell_type": "markdown",
   "metadata": {}
  },
  {
   "source": [
    "In fact, Scikit-Learn’s Perceptron class is equivalent\n",
    "to using an SGDClassifier with the following hyperparameters: loss=\"perceptron\" ,\n",
    "learning_rate=\"constant\" , eta0=1 (the learning rate), and penalty=None (no regu‐\n",
    "larization)."
   ],
   "cell_type": "markdown",
   "metadata": {}
  },
  {
   "cell_type": "code",
   "execution_count": 1,
   "metadata": {},
   "outputs": [
    {
     "output_type": "execute_result",
     "data": {
      "text/plain": [
       "Perceptron()"
      ]
     },
     "metadata": {},
     "execution_count": 1
    }
   ],
   "source": [
    "import numpy as np\n",
    "from sklearn.datasets import load_iris\n",
    "from sklearn.linear_model import Perceptron\n",
    "iris = load_iris()\n",
    "X = iris.data[:, (2, 3)] # petal length, petal width\n",
    "y = (iris.target == 0).astype(np.int) # Iris Setosa?\n",
    "per_clf = Perceptron()\n",
    "per_clf.fit(X, y)"
   ]
  },
  {
   "cell_type": "code",
   "execution_count": 4,
   "metadata": {},
   "outputs": [
    {
     "output_type": "execute_result",
     "data": {
      "text/plain": [
       "array([0])"
      ]
     },
     "metadata": {},
     "execution_count": 4
    }
   ],
   "source": [
    "y_pred = per_clf.predict([[2, 0.5]])\n",
    "y_pred"
   ]
  },
  {
   "source": [
    "# Logistic REgression Loss\n",
    "\n",
    "<img src=\"log_reg_loss.png\">"
   ],
   "cell_type": "markdown",
   "metadata": {}
  },
  {
   "source": [
    "# BackPropagation\n",
    "\n",
    "#Using Foor loop\n",
    "<img src=\"bp1_forloop.png\">\n",
    "\n",
    "#Without Foor loop Vectorization\n",
    "\n",
    "np.dot($w, x$)\n",
    "\n",
    "\n",
    "# TRY NUMPY if possible in place of For Loop\n",
    "\n",
    "<img src=\"vectorizatn.png\">\n"
   ],
   "cell_type": "markdown",
   "metadata": {}
  },
  {
   "cell_type": "code",
   "execution_count": null,
   "metadata": {},
   "outputs": [],
   "source": []
  }
 ]
}