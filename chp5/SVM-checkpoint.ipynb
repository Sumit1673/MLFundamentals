{
 "cells": [
  {
   "cell_type": "markdown",
   "metadata": {},
   "source": [
    "# HARD MARGIN CLASSIFICATION\n",
    "\n",
    "Works only for the linearly speparable datasets. If the hypothesis for a point is > 1 then\n",
    "for positive point and <-1 for negative points it is meant to be correctly classified.\n",
    "This type of classification is sensitive to outliers which can be found on the street.\n",
    "\n",
    "# Soft MARGIN CLASSIFICATION\n",
    "\n",
    "1. To tackle the outliers with linear + non-linear dataset.\n",
    "2. Avoid points being present on the street.\n",
    "\n"
   ]
  },
  {
   "cell_type": "code",
   "execution_count": 3,
   "metadata": {},
   "outputs": [],
   "source": [
    "import numpy as np\n",
    "from sklearn import datasets\n",
    "from sklearn.pipeline import Pipeline\n",
    "from sklearn.svm import LinearSVC\n",
    "from sklearn.preprocessing import StandardScaler"
   ]
  },
  {
   "cell_type": "code",
   "execution_count": 12,
   "metadata": {},
   "outputs": [
    {
     "data": {
      "text/plain": [
       "array([1.])"
      ]
     },
     "execution_count": 12,
     "metadata": {},
     "output_type": "execute_result"
    }
   ],
   "source": [
    "iris = datasets.load_iris()\n",
    "X = iris[\"data\"][:, (2,3)] # using only two features\n",
    "y = (iris[\"target\"] == 2).astype(np.float64) # only one class\n",
    "\n",
    "svc_clf = Pipeline([\n",
    "    (\"scaler\", StandardScaler()),\n",
    "    (\"linear_svc\", LinearSVC(C=1, loss=\"hinge\")),\n",
    "])\n",
    "\n",
    "svc_clf.fit(X, y)\n",
    "svc_clf.predict([[5.5, 1.7]])"
   ]
  },
  {
   "cell_type": "code",
   "execution_count": 19,
   "metadata": {},
   "outputs": [
    {
     "data": {
      "text/plain": [
       "array([1.])"
      ]
     },
     "execution_count": 19,
     "metadata": {},
     "output_type": "execute_result"
    }
   ],
   "source": [
    "# USING SGDClassifier with SVM.\n",
    "# SGDRegressor is for regression task and donot support HINGE loss\n",
    "\n",
    "from sklearn.linear_model import SGDClassifier\n",
    "m = len(X)\n",
    "C = 1\n",
    "sgd_clf = Pipeline([\n",
    "    (\"scaler\", StandardScaler()),\n",
    "    (\"linear_sgd\", SGDClassifier(loss=\"hinge\", alpha=1/(m*C))),\n",
    "])\n",
    "sgd_clf.fit(X,y)\n",
    "sgd_clf.predict([[5.5, 1.7]])"
   ]
  },
  {
   "cell_type": "markdown",
   "metadata": {},
   "source": [
    "# NON LINEAR SVM\n",
    "\n",
    "Using Polynomial Feature transformer as studied in previous chapter to convert non-linear dataset to linear\n",
    "which works in some cases and then applying linear classifiers on the new data.\n",
    "\n"
   ]
  },
  {
   "cell_type": "code",
   "execution_count": 22,
   "metadata": {},
   "outputs": [
    {
     "name": "stderr",
     "output_type": "stream",
     "text": [
      "/home/sumit/anaconda3/lib/python3.8/site-packages/sklearn/svm/_base.py:976: ConvergenceWarning: Liblinear failed to converge, increase the number of iterations.\n",
      "  warnings.warn(\"Liblinear failed to converge, increase \"\n"
     ]
    },
    {
     "data": {
      "text/plain": [
       "Pipeline(steps=[('poly_features', PolynomialFeatures(degree=3)),\n",
       "                ('scaler', StandardScaler()),\n",
       "                ('svm_clf', LinearSVC(C=10, loss='hinge'))])"
      ]
     },
     "execution_count": 22,
     "metadata": {},
     "output_type": "execute_result"
    }
   ],
   "source": [
    "from sklearn.datasets import make_moons\n",
    "from sklearn.pipeline import Pipeline\n",
    "from sklearn.preprocessing import PolynomialFeatures\n",
    "import matplotlib.pyplot as plt\n",
    "\n",
    "X, y = make_moons(n_samples=100, noise=0.15, random_state=42)\n",
    "polynomial_svm_clf = Pipeline([\n",
    "(\"poly_features\", PolynomialFeatures(degree=3)),\n",
    "(\"scaler\", StandardScaler()),\n",
    "(\"svm_clf\", LinearSVC(C=10, loss=\"hinge\"))\n",
    "])\n",
    "polynomial_svm_clf.fit(X, y)"
   ]
  },
  {
   "cell_type": "code",
   "execution_count": 24,
   "metadata": {},
   "outputs": [
    {
     "data": {
      "image/png": "[encoded data removed]",
      "text/plain": [
       "<Figure size 432x288 with 1 Axes>"
      ]
     },
     "metadata": {
      "needs_background": "light"
     },
     "output_type": "display_data"
    }
   ],
   "source": [
    "from sklearn.datasets import make_moons\n",
    "X, y = make_moons(n_samples=100, noise=0.15, random_state=42)\n",
    "\n",
    "def plot_dataset(X, y, axes):\n",
    "    plt.plot(X[:, 0][y==0], X[:, 1][y==0], \"bs\")\n",
    "    plt.plot(X[:, 0][y==1], X[:, 1][y==1], \"g^\")\n",
    "    plt.axis(axes)\n",
    "    plt.grid(True, which='both')\n",
    "    plt.xlabel(r\"$x_1$\", fontsize=20)\n",
    "    plt.ylabel(r\"$x_2$\", fontsize=20, rotation=0)\n",
    "\n",
    "plot_dataset(X, y, [-1.5, 2.5, -1, 1.5])\n",
    "plt.show()"
   ]
  },
  {
   "cell_type": "code",
   "execution_count": 43,
   "metadata": {},
   "outputs": [
    {
     "name": "stdout",
     "output_type": "stream",
     "text": [
      "[0 0 0 0 0 0 0 0 0 0 0 0 0 0 0 0 0 0 1 1 1 1 1 1 1 1 1 1 1 1 1 1 1 1 1 1 1\n",
      " 1 1 1 1 1 1 1 1 1 1 1 1 1 1 1 1 1 1 1 1 1 1 1 1 1 1 1 1 1 1 1 1 1 1 1 1 1\n",
      " 1 1 1 1 1 1 1 1 1 1 1 1 1 1 1 1 1 1 1 1 1 1 1 1 1 1]\n",
      "[-19.51778066 -18.06260487 -16.65372873 -15.29021715 -13.97113505\n",
      " -12.69554732 -11.46251887 -10.2711146   -9.12039941  -8.00943822\n",
      "  -6.93729591  -5.90303741  -4.90572761  -3.94443142  -3.01821373\n",
      "  -2.12613946  -1.26727351  -0.44068078   0.35457382   1.11942539\n",
      "   1.85480903   2.56165982   3.24091288   3.89350328   4.52036614\n",
      "   5.12243654   5.70064957   6.25594035   6.78924396   7.30149549\n",
      "   7.79363005   8.26658273   8.72128863   9.15868283   9.57970045\n",
      "   9.98527656  10.37634628  10.75384469  11.11870689  11.47186798\n",
      "  11.81426305  12.14682721  12.47049553  12.78620313  13.09488509\n",
      "  13.39747651  13.6949125   13.98812813  14.27805852  14.56563875\n",
      "  14.85180393  15.13748914  15.42362948  15.71116006  16.00101596\n",
      "  16.29413228  16.59144412  16.89388657  17.20239473  17.51790369\n",
      "  17.84134856  18.17366442  18.51578638  18.86864952  19.23318894\n",
      "  19.61033975  20.00103704  20.40621589  20.82681141  21.2637587\n",
      "  21.71799285  22.19044895  22.6820621   23.1937674   23.72649994\n",
      "  24.28119483  24.85878714  25.46021199  26.08640447  26.73829966\n",
      "  27.41683268  28.12293861  28.85755255  29.6216096   30.41604485\n",
      "  31.24179339  32.09979033  32.99097076  33.91626978  34.87662248\n",
      "  35.87296395  36.9062293   37.97735362  39.087272    40.23691954\n",
      "  41.42723134  42.6591425   43.9335881   45.25150325  46.61382303]\n"
     ]
    },
    {
     "data": {
      "image/png": "[encoded data removed]",
      "text/plain": [
       "<Figure size 432x288 with 1 Axes>"
      ]
     },
     "metadata": {
      "needs_background": "light"
     },
     "output_type": "display_data"
    }
   ],
   "source": [
    "def plot_predictions(model, axis):\n",
    "    # create data points\n",
    "    x0 = np.linspace(axis[0], axis[1], 100) # 100 points between axis0 and axis 1\n",
    "    x1 = np.linspace(axis[2], axis[3], 100) # 100 points between axis2 and axis 3\n",
    "    x0, x1 = np.meshgrid(x0, x1) # shape x0=(100,100) x1=(100,100)\n",
    "    \n",
    "    # Form dataset\n",
    "    X = np.c_[x0.ravel(), x1.ravel()] #Flattened and concatenated. shape = (10000, 2)\n",
    "    \n",
    "    # get prredictions\n",
    "    y_pred = model.predict(X)# shape = (10000,)\n",
    "    y_pred = y_pred.reshape(x0.shape) # shape (100, 100) \n",
    "#     print(y_pred[0,:])\n",
    "    # decision function gives the score of a point from x0 and all the points in x1\n",
    "    # and based on the maximum score the predict gives a label.\n",
    "    y_decision = model.decision_function(X).reshape(x0.shape) # shape=100,100\n",
    "#     print(y_decision[0,:])\n",
    "    plt.contourf(x0, x1, y_pred, cmap=plt.cm.brg, alpha=0.2)\n",
    "    plt.contourf(x0, x1, y_decision, cmap=plt.cm.brg, alpha=0.1)\n",
    "\n",
    "plot_predictions(polynomial_svm_clf, [-1.5, 2.5, -1, 1.5])\n",
    "plot_dataset(X, y, [-1.5, 2.5, -1, 1.5])\n",
    "\n",
    "# # save_fig(\"moons_polynomial_svc_plot\")\n",
    "plt.show()"
   ]
  },
  {
   "cell_type": "code",
   "execution_count": null,
   "metadata": {},
   "outputs": [],
   "source": []
  }
 ],
 "metadata": {
  "kernelspec": {
   "display_name": "Python 3",
   "language": "python",
   "name": "python3"
  },
  "language_info": {
   "codemirror_mode": {
    "name": "ipython",
    "version": 3
   },
   "file_extension": ".py",
   "mimetype": "text/x-python",
   "name": "python",
   "nbconvert_exporter": "python",
   "pygments_lexer": "ipython3",
   "version": "3.8.5"
  }
 },
 "nbformat": 4,
 "nbformat_minor": 4
}
